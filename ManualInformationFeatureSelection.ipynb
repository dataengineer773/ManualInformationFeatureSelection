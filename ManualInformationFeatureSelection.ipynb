{
 "cells": [
  {
   "cell_type": "code",
   "execution_count": 1,
   "id": "b7987ce2-f872-4d03-872c-2d7a98a7bf90",
   "metadata": {},
   "outputs": [],
   "source": [
    "from sklearn.datasets import make_regression\n",
    "from sklearn.model_selection import train_test_split\n",
    "from sklearn.feature_selection import SelectKBest\n",
    "from sklearn.feature_selection import mutual_info_regression\n",
    "from matplotlib import pyplot"
   ]
  },
  {
   "cell_type": "code",
   "execution_count": 2,
   "id": "44d91c96-31a8-4fcd-af91-458e152344cb",
   "metadata": {},
   "outputs": [],
   "source": [
    "# feature selection\n",
    "def select_features(X_train, y_train, X_test):\n",
    "    # configure to select all features\n",
    "    fs = SelectKBest(score_func = mutual_info_regression, k='all')\n",
    "    # learn relationship from training data\n",
    "    fs.fit(X_train, y_train)\n",
    "    # transform train input data\n",
    "    X_train_fs = fs.transform(X_train)\n",
    "    # transform test input data\n",
    "    X_test_fs = fs.transform(X_test)\n",
    "    return X_train_fs, X_test_fs, fs"
   ]
  },
  {
   "cell_type": "code",
   "execution_count": 3,
   "id": "16de1718-e0a4-4308-9b46-4dd9501a01da",
   "metadata": {},
   "outputs": [],
   "source": [
    "# load the data set\n",
    "X, y = make_regression(n_samples=1000, n_features=100, n_informative=10, noise=0.1, random_state=1)"
   ]
  },
  {
   "cell_type": "code",
   "execution_count": 4,
   "id": "771c7ce9-db7e-4c89-aabc-a72d1acac588",
   "metadata": {},
   "outputs": [],
   "source": [
    "# split into train and test stes\n",
    "X_train, X_test, y_train, y_test = train_test_split(X, y, test_size=0.33, random_state=1)"
   ]
  },
  {
   "cell_type": "code",
   "execution_count": 5,
   "id": "d350ab81-3a14-4133-8a6e-85717c9ee4ff",
   "metadata": {},
   "outputs": [],
   "source": [
    "# faeture selection\n",
    "X_train_fs, X_test_fs, fs = select_features(X_train, y_train, X_test)"
   ]
  },
  {
   "cell_type": "code",
   "execution_count": 6,
   "id": "de1da5e9-cad6-4e47-a496-85642661b9ba",
   "metadata": {},
   "outputs": [
    {
     "name": "stdout",
     "output_type": "stream",
     "text": [
      "FEATURES 0: 0.045484\n",
      "FEATURES 1: 0.000000\n",
      "FEATURES 2: 0.000000\n",
      "FEATURES 3: 0.000000\n",
      "FEATURES 4: 0.024816\n",
      "FEATURES 5: 0.000000\n",
      "FEATURES 6: 0.022659\n",
      "FEATURES 7: 0.000000\n",
      "FEATURES 8: 0.000000\n",
      "FEATURES 9: 0.074320\n",
      "FEATURES 10: 0.000000\n",
      "FEATURES 11: 0.000000\n",
      "FEATURES 12: 0.000000\n",
      "FEATURES 13: 0.000000\n",
      "FEATURES 14: 0.020390\n",
      "FEATURES 15: 0.004307\n",
      "FEATURES 16: 0.000000\n",
      "FEATURES 17: 0.000000\n",
      "FEATURES 18: 0.016566\n",
      "FEATURES 19: 0.003688\n",
      "FEATURES 20: 0.007579\n",
      "FEATURES 21: 0.018640\n",
      "FEATURES 22: 0.025206\n",
      "FEATURES 23: 0.017967\n",
      "FEATURES 24: 0.069173\n",
      "FEATURES 25: 0.000000\n",
      "FEATURES 26: 0.022232\n",
      "FEATURES 27: 0.000000\n",
      "FEATURES 28: 0.007849\n",
      "FEATURES 29: 0.012849\n",
      "FEATURES 30: 0.017402\n",
      "FEATURES 31: 0.008083\n",
      "FEATURES 32: 0.047321\n",
      "FEATURES 33: 0.002829\n",
      "FEATURES 34: 0.028968\n",
      "FEATURES 35: 0.000000\n",
      "FEATURES 36: 0.071652\n",
      "FEATURES 37: 0.027969\n",
      "FEATURES 38: 0.000000\n",
      "FEATURES 39: 0.064796\n",
      "FEATURES 40: 0.137695\n",
      "FEATURES 41: 0.008732\n",
      "FEATURES 42: 0.003983\n",
      "FEATURES 43: 0.000000\n",
      "FEATURES 44: 0.009387\n",
      "FEATURES 45: 0.000000\n",
      "FEATURES 46: 0.038385\n",
      "FEATURES 47: 0.000000\n",
      "FEATURES 48: 0.000000\n",
      "FEATURES 49: 0.000000\n",
      "FEATURES 50: 0.000000\n",
      "FEATURES 51: 0.000000\n",
      "FEATURES 52: 0.000000\n",
      "FEATURES 53: 0.008130\n",
      "FEATURES 54: 0.041779\n",
      "FEATURES 55: 0.000000\n",
      "FEATURES 56: 0.000000\n",
      "FEATURES 57: 0.000000\n",
      "FEATURES 58: 0.031228\n",
      "FEATURES 59: 0.002689\n",
      "FEATURES 60: 0.146192\n",
      "FEATURES 61: 0.000000\n",
      "FEATURES 62: 0.000000\n",
      "FEATURES 63: 0.000000\n",
      "FEATURES 64: 0.018194\n",
      "FEATURES 65: 0.021368\n",
      "FEATURES 66: 0.046071\n",
      "FEATURES 67: 0.034707\n",
      "FEATURES 68: 0.033530\n",
      "FEATURES 69: 0.002262\n",
      "FEATURES 70: 0.018332\n",
      "FEATURES 71: 0.000000\n",
      "FEATURES 72: 0.000000\n",
      "FEATURES 73: 0.074876\n",
      "FEATURES 74: 0.000000\n",
      "FEATURES 75: 0.004429\n",
      "FEATURES 76: 0.002617\n",
      "FEATURES 77: 0.031354\n",
      "FEATURES 78: 0.000000\n",
      "FEATURES 79: 0.000000\n",
      "FEATURES 80: 0.000000\n",
      "FEATURES 81: 0.033931\n",
      "FEATURES 82: 0.010400\n",
      "FEATURES 83: 0.019373\n",
      "FEATURES 84: 0.000000\n",
      "FEATURES 85: 0.033191\n",
      "FEATURES 86: 0.000000\n",
      "FEATURES 87: 0.028745\n",
      "FEATURES 88: 0.000000\n",
      "FEATURES 89: 0.000000\n",
      "FEATURES 90: 0.000000\n",
      "FEATURES 91: 0.017698\n",
      "FEATURES 92: 0.129797\n",
      "FEATURES 93: 0.000000\n",
      "FEATURES 94: 0.002171\n",
      "FEATURES 95: 0.029995\n",
      "FEATURES 96: 0.000000\n",
      "FEATURES 97: 0.014428\n",
      "FEATURES 98: 0.000000\n",
      "FEATURES 99: 0.000000\n"
     ]
    }
   ],
   "source": [
    "# what are scores for the features\n",
    "for i in range(len(fs.scores_)):\n",
    "    print('FEATURES %d: %f' % (i, fs.scores_[i]))"
   ]
  },
  {
   "cell_type": "code",
   "execution_count": 7,
   "id": "681314e0-bffb-4813-baa6-05b284e7116e",
   "metadata": {},
   "outputs": [
    {
     "data": {
      "image/png": "[encoded data removed]",
      "text/plain": [
       "<Figure size 432x288 with 1 Axes>"
      ]
     },
     "metadata": {
      "needs_background": "light"
     },
     "output_type": "display_data"
    }
   ],
   "source": [
    "# plot the scores\n",
    "pyplot.bar([i for i in range(len(fs.scores_))], fs.scores_)\n",
    "pyplot.show()"
   ]
  },
  {
   "cell_type": "code",
   "execution_count": null,
   "id": "9eed7608-593f-486d-b3c5-7d3a6ef7d5da",
   "metadata": {},
   "outputs": [],
   "source": []
  }
 ],
 "metadata": {
  "kernelspec": {
   "display_name": "Python 3 (ipykernel)",
   "language": "python",
   "name": "python3"
  },
  "language_info": {
   "codemirror_mode": {
    "name": "ipython",
    "version": 3
   },
   "file_extension": ".py",
   "mimetype": "text/x-python",
   "name": "python",
   "nbconvert_exporter": "python",
   "pygments_lexer": "ipython3",
   "version": "3.10.12"
  }
 },
 "nbformat": 4,
 "nbformat_minor": 5
}
